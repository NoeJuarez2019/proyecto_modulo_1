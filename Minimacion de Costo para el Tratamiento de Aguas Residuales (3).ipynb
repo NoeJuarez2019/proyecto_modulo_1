{
 "cells": [
  {
   "cell_type": "markdown",
   "metadata": {},
   "source": [
    "# MINIMO COSTO PARA TRATAMIENTO DE AGUAS RESIDUALES."
   ]
  },
  {
   "cell_type": "markdown",
   "metadata": {},
   "source": [
    "Las descargas de aguas residuales de las grandes ciudades son, con frecuencia, la causa principal de contamionacion en un rio.\n",
    "En relacion a nuestro ejercicio se muestra "
   ]
  },
  {
   "cell_type": "code",
   "execution_count": 22,
   "metadata": {},
   "outputs": [],
   "source": [
    "import pandas as pd"
   ]
  },
  {
   "cell_type": "code",
   "execution_count": 23,
   "metadata": {},
   "outputs": [],
   "source": [
    "import sympy as sym\n",
    "import numpy as np\n",
    "import matplotlib.pyplot as plt\n",
    "%matplotlib inline"
   ]
  },
  {
   "cell_type": "code",
   "execution_count": 24,
   "metadata": {},
   "outputs": [],
   "source": [
    "from sympy import *"
   ]
  },
  {
   "cell_type": "code",
   "execution_count": 25,
   "metadata": {},
   "outputs": [
    {
     "data": {
      "text/html": [
       "<div>\n",
       "<style scoped>\n",
       "    .dataframe tbody tr th:only-of-type {\n",
       "        vertical-align: middle;\n",
       "    }\n",
       "\n",
       "    .dataframe tbody tr th {\n",
       "        vertical-align: top;\n",
       "    }\n",
       "\n",
       "    .dataframe thead th {\n",
       "        text-align: right;\n",
       "    }\n",
       "</style>\n",
       "<table border=\"1\" class=\"dataframe\">\n",
       "  <thead>\n",
       "    <tr style=\"text-align: right;\">\n",
       "      <th></th>\n",
       "      <th>Ciudad</th>\n",
       "      <th>Pi(mg/d)</th>\n",
       "      <th>fi($10^-6/mg)</th>\n",
       "      <th>Ci(mg/L)</th>\n",
       "      <th>Segmento</th>\n",
       "      <th>Q(L/d)</th>\n",
       "      <th>R</th>\n",
       "      <th>Cs(mg/L)</th>\n",
       "    </tr>\n",
       "  </thead>\n",
       "  <tbody>\n",
       "    <tr>\n",
       "      <th>0</th>\n",
       "      <td>1</td>\n",
       "      <td>1000000000</td>\n",
       "      <td>2</td>\n",
       "      <td>NaN</td>\n",
       "      <td>3-Jan</td>\n",
       "      <td>10000000</td>\n",
       "      <td>0.50</td>\n",
       "      <td>20</td>\n",
       "    </tr>\n",
       "    <tr>\n",
       "      <th>1</th>\n",
       "      <td>2</td>\n",
       "      <td>2000000000</td>\n",
       "      <td>2</td>\n",
       "      <td>NaN</td>\n",
       "      <td>3-Feb</td>\n",
       "      <td>50000000</td>\n",
       "      <td>0.35</td>\n",
       "      <td>20</td>\n",
       "    </tr>\n",
       "    <tr>\n",
       "      <th>2</th>\n",
       "      <td>3</td>\n",
       "      <td>4000000000</td>\n",
       "      <td>4</td>\n",
       "      <td>NaN</td>\n",
       "      <td>4-Mar</td>\n",
       "      <td>110000000</td>\n",
       "      <td>0.60</td>\n",
       "      <td>20</td>\n",
       "    </tr>\n",
       "    <tr>\n",
       "      <th>3</th>\n",
       "      <td>4</td>\n",
       "      <td>2500000000</td>\n",
       "      <td>4</td>\n",
       "      <td>NaN</td>\n",
       "      <td>5-Apr</td>\n",
       "      <td>250000000</td>\n",
       "      <td>NaN</td>\n",
       "      <td>20</td>\n",
       "    </tr>\n",
       "  </tbody>\n",
       "</table>\n",
       "</div>"
      ],
      "text/plain": [
       "   Ciudad    Pi(mg/d)  fi($10^-6/mg)  Ci(mg/L) Segmento     Q(L/d)     R  \\\n",
       "0       1  1000000000              2       NaN    3-Jan   10000000  0.50   \n",
       "1       2  2000000000              2       NaN    3-Feb   50000000  0.35   \n",
       "2       3  4000000000              4       NaN    4-Mar  110000000  0.60   \n",
       "3       4  2500000000              4       NaN    5-Apr  250000000   NaN   \n",
       "\n",
       "   Cs(mg/L)  \n",
       "0        20  \n",
       "1        20  \n",
       "2        20  \n",
       "3        20  "
      ]
     },
     "execution_count": 25,
     "metadata": {},
     "output_type": "execute_result"
    }
   ],
   "source": [
    "file_name = 'tabla 16.2.csv'\n",
    "data = pd.read_csv(file_name)\n",
    "data"
   ]
  },
  {
   "cell_type": "code",
   "execution_count": 26,
   "metadata": {},
   "outputs": [],
   "source": [
    "#Restricciones\n",
    "x1 = 0\n",
    "x2 = 0\n",
    "x3 = 0\n",
    "x4 = 0"
   ]
  },
  {
   "cell_type": "code",
   "execution_count": 27,
   "metadata": {},
   "outputs": [],
   "source": [
    "P1 = data.iloc[0,1]\n",
    "Q1 = data.iloc[0,5]\n",
    "P2 = data.iloc[1,1]\n",
    "Q2 = data.iloc[1,5]\n",
    "P3 = data.iloc[2,1]\n",
    "Q3 = data.iloc[2,5]\n",
    "P4 = data.iloc[3,1]\n",
    "Q4 = data.iloc[3,5]\n",
    "R13 = data.iloc[0,6]\n",
    "R23 = data.iloc[1,6]\n",
    "R34 = data.iloc[2,6]"
   ]
  },
  {
   "cell_type": "code",
   "execution_count": 28,
   "metadata": {},
   "outputs": [],
   "source": [
    "#Encontrar Concentracion en el rio a traves de las restricciones.\n",
    "#Ciudad 1,2,3,4.\n",
    "C1 = ((1-x1)*P1)/Q1\n",
    "C2 = ((1-x2)*P2)/Q2\n",
    "C3 = ((R13*Q1*C1)+(R23*Q2*C2)+((1-x3)*P3))/Q3\n",
    "C4 = ((R34*Q3*C3)+((1-x4)*P4))/Q4"
   ]
  },
  {
   "cell_type": "markdown",
   "metadata": {},
   "source": [
    "A partir de estas operaciones de restriccion encontramos la concentracion en el rio de las 4 ciudades."
   ]
  },
  {
   "cell_type": "code",
   "execution_count": 29,
   "metadata": {},
   "outputs": [],
   "source": [
    "#Retiramos los valores de Costo Unitario de la tabla.\n",
    "d1 = data.iloc[0,2]\n",
    "d2 = data.iloc[1,2]\n",
    "d3 = data.iloc[2,2]\n",
    "d4 = data.iloc[3,2]"
   ]
  },
  {
   "cell_type": "code",
   "execution_count": 30,
   "metadata": {},
   "outputs": [],
   "source": [
    "#El costo total de tratamiento se determina de la siguiente manera.\n",
    "Z1 = (d1*P1*x1)\n",
    "Z2 = (d2*P2*x2)\n",
    "Z3 = (d3*P3*x3)\n",
    "Z4 = (d4*P4*x4)"
   ]
  },
  {
   "cell_type": "markdown",
   "metadata": {},
   "source": [
    "#### Optimizacion de la funcion para la determinacion de X (Tratamiento) en relacion de las restricciones aplicadas por CA Calidad de Agua"
   ]
  },
  {
   "cell_type": "code",
   "execution_count": 31,
   "metadata": {},
   "outputs": [],
   "source": [
    "x1 = 1600/(d1*P1)\n",
    "x2 = 2000/(d2*P2)\n",
    "x3 = 9000/(d3*P3)\n",
    "x4 = 0/(d4*P4)"
   ]
  },
  {
   "cell_type": "code",
   "execution_count": 33,
   "metadata": {},
   "outputs": [
    {
     "data": {
      "text/plain": [
       "(8e-07, 5e-07, 5.625e-07, 0.0)"
      ]
     },
     "execution_count": 33,
     "metadata": {},
     "output_type": "execute_result"
    }
   ],
   "source": [
    "x1,x2,x3,x4"
   ]
  }
 ],
 "metadata": {
  "kernelspec": {
   "display_name": "Python 3",
   "language": "python",
   "name": "python3"
  },
  "language_info": {
   "codemirror_mode": {
    "name": "ipython",
    "version": 3
   },
   "file_extension": ".py",
   "mimetype": "text/x-python",
   "name": "python",
   "nbconvert_exporter": "python",
   "pygments_lexer": "ipython3",
   "version": "3.7.3"
  }
 },
 "nbformat": 4,
 "nbformat_minor": 2
}
